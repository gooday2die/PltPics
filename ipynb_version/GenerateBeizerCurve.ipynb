{
 "cells": [
  {
   "cell_type": "code",
   "execution_count": 1,
   "id": "cb831fd9",
   "metadata": {},
   "outputs": [
    {
     "data": {
      "text/plain": [
       "'\\nThe main code that turns image into bezier curves was from https://github.com/kevinjycui/DesmosBezierRenderer\\nHuge and special thanks to https://github.com/kevinjycui for this fun project.\\n'"
      ]
     },
     "execution_count": 1,
     "metadata": {},
     "output_type": "execute_result"
    }
   ],
   "source": [
    "\"\"\"\n",
    "The main code that turns image into bezier curves was from https://github.com/kevinjycui/DesmosBezierRenderer\n",
    "Huge and special thanks to https://github.com/kevinjycui for this fun project.\n",
    "\"\"\""
   ]
  },
  {
   "cell_type": "code",
   "execution_count": 2,
   "id": "1ec4eb68",
   "metadata": {},
   "outputs": [],
   "source": [
    "import numpy as np\n",
    "import potrace\n",
    "import cv2\n",
    "\n",
    "BILATERAL_FILTER = False  # Reduce number of lines with bilateral filter\n",
    "USE_L2_GRADIENT = False  # Creates less edges but is still accurate (leads to faster renders)"
   ]
  },
  {
   "cell_type": "code",
   "execution_count": 3,
   "id": "b9a1134b",
   "metadata": {},
   "outputs": [],
   "source": [
    "def get_trace(data):\n",
    "    for i in range(len(data)):\n",
    "        data[i][data[i] > 1] = 1\n",
    "    bmp = potrace.Bitmap(data)\n",
    "    path = bmp.trace(2, potrace.TURNPOLICY_MINORITY, 1.0, 1, .5)\n",
    "    return path\n",
    "\n",
    "\n",
    "def get_curve(filename):\n",
    "    path = get_trace(get_contours(filename))\n",
    "    curves_list = list()\n",
    "    for curve in path.curves:\n",
    "        segments = curve.segments\n",
    "        start = curve.start_point\n",
    "        for segment in segments:\n",
    "            x0, y0 = start\n",
    "            if segment.is_corner:\n",
    "                x1, y1 = segment.c\n",
    "                x2, y2 = segment.end_point\n",
    "                # Append those points as list\n",
    "                curves_list.append(((x0, y0), (x1, y1), (x2, y2), (x0, y0)))\n",
    "\n",
    "            else:\n",
    "                x1, y1 = segment.c1\n",
    "                x2, y2 = segment.c2\n",
    "                x3, y3 = segment.end_point\n",
    "                curves_list.append(((x0, y0), (x1, y1), (x2, y2), (x3, y3)))\n",
    "            start = segment.end_point\n",
    "    return curves_list\n",
    "\n",
    "\n",
    "def get_contours(image, nudge=.33):\n",
    "    img = cv2.imread(image)\n",
    "    gray = cv2.cvtColor(img, cv2.COLOR_BGR2GRAY)\n",
    "\n",
    "    if BILATERAL_FILTER:\n",
    "        median = max(10, min(245, np.median(gray)))\n",
    "        lower = int(max(0, (1 - nudge) * median))\n",
    "        upper = int(min(255, (1 + nudge) * median))\n",
    "        filtered = cv2.bilateralFilter(gray, 5, 50, 50)\n",
    "        edged = cv2.Canny(filtered, lower, upper, L2gradient=USE_L2_GRADIENT)\n",
    "    else:\n",
    "        edged = cv2.Canny(gray, 30, 200)\n",
    "\n",
    "    return edged[::-1]"
   ]
  }
 ],
 "metadata": {
  "kernelspec": {
   "display_name": "Python 3 (ipykernel)",
   "language": "python",
   "name": "python3"
  },
  "language_info": {
   "codemirror_mode": {
    "name": "ipython",
    "version": 3
   },
   "file_extension": ".py",
   "mimetype": "text/x-python",
   "name": "python",
   "nbconvert_exporter": "python",
   "pygments_lexer": "ipython3",
   "version": "3.10.4"
  }
 },
 "nbformat": 4,
 "nbformat_minor": 5
}
