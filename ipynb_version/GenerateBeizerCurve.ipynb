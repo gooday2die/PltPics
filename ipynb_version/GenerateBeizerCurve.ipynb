{
 "cells": [
  {
   "cell_type": "code",
   "execution_count": 1,
   "metadata": {},
   "outputs": [
    {
     "data": {
      "text/plain": [
       "'\\nThe main code that turns image into bezier curves was from https://github.com/kevinjycui/DesmosBezierRenderer\\nHuge and special thanks to https://github.com/kevinjycui for this fun project.\\n'"
      ]
     },
     "execution_count": 1,
     "metadata": {},
     "output_type": "execute_result"
    }
   ],
   "source": [
    "\"\"\"\n",
    "The main code that turns image into bezier curves was from https://github.com/kevinjycui/DesmosBezierRenderer\n",
    "Huge and special thanks to https://github.com/kevinjycui for this fun project.\n",
    "\"\"\""
   ]
  },
  {
   "cell_type": "code",
   "execution_count": 5,
   "metadata": {},
   "outputs": [
    {
     "ename": "ValueError",
     "evalue": "numpy.ndarray size changed, may indicate binary incompatibility. Expected 88 from C header, got 80 from PyObject",
     "output_type": "error",
     "traceback": [
      "\u001b[0;31m---------------------------------------------------------------------------\u001b[0m",
      "\u001b[0;31mValueError\u001b[0m                                Traceback (most recent call last)",
      "\u001b[0;32m<ipython-input-5-bf073f5e19fd>\u001b[0m in \u001b[0;36m<module>\u001b[0;34m\u001b[0m\n\u001b[1;32m      1\u001b[0m \u001b[0;32mimport\u001b[0m \u001b[0mnumpy\u001b[0m \u001b[0;32mas\u001b[0m \u001b[0mnp\u001b[0m\u001b[0;34m\u001b[0m\u001b[0;34m\u001b[0m\u001b[0m\n\u001b[0;32m----> 2\u001b[0;31m \u001b[0;32mimport\u001b[0m \u001b[0mpotrace\u001b[0m\u001b[0;34m\u001b[0m\u001b[0;34m\u001b[0m\u001b[0m\n\u001b[0m\u001b[1;32m      3\u001b[0m \u001b[0;32mimport\u001b[0m \u001b[0mcv2\u001b[0m\u001b[0;34m\u001b[0m\u001b[0;34m\u001b[0m\u001b[0m\n\u001b[1;32m      4\u001b[0m \u001b[0;34m\u001b[0m\u001b[0m\n\u001b[1;32m      5\u001b[0m \u001b[0mBILATERAL_FILTER\u001b[0m \u001b[0;34m=\u001b[0m \u001b[0;32mFalse\u001b[0m  \u001b[0;31m# Reduce number of lines with bilateral filter\u001b[0m\u001b[0;34m\u001b[0m\u001b[0;34m\u001b[0m\u001b[0m\n",
      "\u001b[0;32m~/opt/anaconda3/lib/python3.7/site-packages/potrace/__init__.py\u001b[0m in \u001b[0;36m<module>\u001b[0;34m\u001b[0m\n\u001b[0;32m----> 1\u001b[0;31m \u001b[0;32mfrom\u001b[0m \u001b[0mpotrace\u001b[0m\u001b[0;34m.\u001b[0m\u001b[0m_potrace\u001b[0m \u001b[0;32mimport\u001b[0m \u001b[0;34m*\u001b[0m  \u001b[0;31m# NOQA\u001b[0m\u001b[0;34m\u001b[0m\u001b[0;34m\u001b[0m\u001b[0m\n\u001b[0m\u001b[1;32m      2\u001b[0m \u001b[0;34m\u001b[0m\u001b[0m\n\u001b[1;32m      3\u001b[0m \u001b[0;34m\u001b[0m\u001b[0m\n\u001b[1;32m      4\u001b[0m \u001b[0m__version__\u001b[0m \u001b[0;34m=\u001b[0m \u001b[0;34m\"0.2\"\u001b[0m\u001b[0;34m\u001b[0m\u001b[0;34m\u001b[0m\u001b[0m\n",
      "\u001b[0;32m~/opt/anaconda3/lib/python3.7/site-packages/potrace/_potrace.pyx\u001b[0m in \u001b[0;36minit potrace._potrace\u001b[0;34m()\u001b[0m\n",
      "\u001b[0;31mValueError\u001b[0m: numpy.ndarray size changed, may indicate binary incompatibility. Expected 88 from C header, got 80 from PyObject"
     ]
    }
   ],
   "source": [
    "import numpy as np\n",
    "import potrace\n",
    "import cv2\n",
    "\n",
    "BILATERAL_FILTER = False  # Reduce number of lines with bilateral filter\n",
    "USE_L2_GRADIENT = False  # Creates less edges but is still accurate (leads to faster renders)"
   ]
  },
  {
   "cell_type": "code",
   "execution_count": 3,
   "metadata": {},
   "outputs": [],
   "source": [
    "def get_trace(data):\n",
    "    for i in range(len(data)):\n",
    "        data[i][data[i] > 1] = 1\n",
    "    bmp = potrace.Bitmap(data)\n",
    "    path = bmp.trace(2, potrace.TURNPOLICY_MINORITY, 1.0, 1, .5)\n",
    "    return path\n",
    "\n",
    "\n",
    "def get_curve(filename):\n",
    "    latex = []\n",
    "    path = get_trace(get_contours(filename))\n",
    "    curves_list = list()\n",
    "    for curve in path.curves:\n",
    "        segments = curve.segments\n",
    "        start = curve.start_point\n",
    "        for segment in segments:\n",
    "            x0, y0 = start\n",
    "            if segment.is_corner:\n",
    "                x1, y1 = segment.c\n",
    "                x2, y2 = segment.end_point\n",
    "                latex.append('((1-t)%f+t%f,(1-t)%f+t%f)' % (x0, x1, y0, y1))\n",
    "                latex.append('((1-t)%f+t%f,(1-t)%f+t%f)' % (x1, x2, y1, y2))\n",
    "                curves_list.append(((x0, y0), (x1, y1), (x2, y2), (x0, y0)))  # Append those points as list\n",
    "\n",
    "            else:\n",
    "                x1, y1 = segment.c1\n",
    "                x2, y2 = segment.c2\n",
    "                x3, y3 = segment.end_point\n",
    "                curves_list.append(((x0, y0), (x1, y1), (x2, y2), (x3, y3)))\n",
    "                latex.append('((1-t)((1-t)((1-t)%f+t%f)+t((1-t)%f+t%f))+t((1-t)((1-t)%f+t%f)+t((1-t)%f+t%f)),\\\n",
    "                (1-t)((1-t)((1-t)%f+t%f)+t((1-t)%f+t%f))+t((1-t)((1-t)%f+t%f)+t((1-t)%f+t%f)))' % \\\n",
    "                (x0, x1, x1, x2, x1, x2, x2, x3, y0, y1, y1, y2, y1, y2, y2, y3))\n",
    "            start = segment.end_point\n",
    "    return curves_list\n",
    "\n",
    "def get_contours(image, nudge = .33):\n",
    "    img = cv2.imread(image)\n",
    "    gray = cv2.cvtColor(img, cv2.COLOR_BGR2GRAY)\n",
    "\n",
    "    if BILATERAL_FILTER:\n",
    "        median = max(10, min(245, np.median(gray)))\n",
    "        lower = int(max(0, (1 - nudge) * median))\n",
    "        upper = int(min(255, (1 + nudge) * median))\n",
    "        filtered = cv2.bilateralFilter(gray, 5, 50, 50)\n",
    "        edged = cv2.Canny(filtered, lower, upper, L2gradient = USE_L2_GRADIENT)\n",
    "    else:\n",
    "        edged = cv2.Canny(gray, 30, 200)\n",
    "\n",
    "    return edged[::-1]"
   ]
  }
 ],
 "metadata": {
  "kernelspec": {
   "display_name": "Python 3",
   "language": "python",
   "name": "python3"
  },
  "language_info": {
   "codemirror_mode": {
    "name": "ipython",
    "version": 3
   },
   "file_extension": ".py",
   "mimetype": "text/x-python",
   "name": "python",
   "nbconvert_exporter": "python",
   "pygments_lexer": "ipython3",
   "version": "3.7.6"
  }
 },
 "nbformat": 4,
 "nbformat_minor": 5
}
