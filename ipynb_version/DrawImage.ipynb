{
 "cells": [
  {
   "cell_type": "code",
   "execution_count": 15,
   "metadata": {},
   "outputs": [],
   "source": [
    "import import_ipynb\n",
    "import GenerateBeizerCurve"
   ]
  },
  {
   "cell_type": "code",
   "execution_count": 16,
   "metadata": {},
   "outputs": [],
   "source": [
    "COLOUR = '#2464b4' # Hex value of colour for graph output\n",
    "FIGSIZE_X = 20\n",
    "FIGSIZE_Y = 20\n",
    "DPI = 80"
   ]
  },
  {
   "cell_type": "code",
   "execution_count": 17,
   "metadata": {},
   "outputs": [],
   "source": [
    "from PIL import Image\n",
    "\n",
    "\n",
    "def calculate_fig_size(file_name, multiplier):\n",
    "    \"\"\"\n",
    "    A function that calculates figure's size and set FIGSIZE_X and FIGSIZE_Y\n",
    "    :param file_name: the files' name to set ratio as. In this program it uses\n",
    "                      first frame for getting ratio.\n",
    "    :param multiplier: the multiplier for figsize from ratio\n",
    "                       (if width:height ratio was 2:1 and multiplier was 10,\n",
    "                       figsize will be 20, 10)\n",
    "    \"\"\"\n",
    "    im = Image.open(file_name)\n",
    "    width, height = im.size\n",
    "    global FIGSIZE_X\n",
    "    global FIGSIZE_Y\n",
    "    width_ratio = float(width) / height\n",
    "    FIGSIZE_X = multiplier * width_ratio\n",
    "    FIGSIZE_Y = multiplier * 1\n",
    "\n",
    "\n",
    "def set_fig_size():\n",
    "    \"\"\"\n",
    "    A function that sets figsize using pylab\n",
    "    \"\"\"\n",
    "    plt.rcParams['figure.figsize'] = (FIGSIZE_X, FIGSIZE_Y)"
   ]
  },
  {
   "cell_type": "code",
   "execution_count": 18,
   "metadata": {},
   "outputs": [],
   "source": [
    "import matplotlib.path as mpath\n",
    "import matplotlib.patches as mpatches\n",
    "import matplotlib.pyplot as plt\n",
    "\n",
    "\n",
    "def generate_picture(file_name, flag_calculate_fig_size=True, multiplier=10):\n",
    "    \"\"\"\n",
    "    A simple function that generates images using matplotlib and beizer curves\n",
    "    :param file_name: the name of image file to generate\n",
    "    :param flag_calculate_fig_size: whether or not to automatically calculate\n",
    "                                    ratio and set figsize.\n",
    "    :param multiplier: the multiplier for figsize from ratio\n",
    "                       (if width:height ratio was 2:1 and multiplier was 10,\n",
    "                       figsize will be 20, 10)\n",
    "    \"\"\"\n",
    "    curves = GenerateBeizerCurve.get_curve(file_name)\n",
    "    calculate_fig_size(file_name, multiplier)\n",
    "    set_fig_size()\n",
    "\n",
    "    Path = mpath.Path  # use mpath for drawing bezier curve\n",
    "    fig, ax = plt.subplots()\n",
    "    plt.title(\"Name : \" + file_name)  # show title as frames\n",
    "    for curve in curves:\n",
    "        pp = mpatches.PathPatch(\n",
    "            Path(curve,\n",
    "                 [Path.MOVETO, Path.CURVE3, Path.CURVE3, Path.CLOSEPOLY]),\n",
    "            fc=\"none\", transform=ax.transData, color=COLOUR)\n",
    "        ax.add_patch(pp)  # draw all curves and add_patch to ax.\n",
    "        ax.plot([0], [0])\n",
    "    plt.show()\n",
    "    return fig"
   ]
  },
  {
   "cell_type": "code",
   "execution_count": 19,
   "metadata": {
    "scrolled": false
   },
   "outputs": [
    {
     "ename": "AttributeError",
     "evalue": "module 'GenerateBeizerCurve' has no attribute 'get_curve'",
     "output_type": "error",
     "traceback": [
      "\u001b[0;31m---------------------------------------------------------------------------\u001b[0m",
      "\u001b[0;31mAttributeError\u001b[0m                            Traceback (most recent call last)",
      "\u001b[0;32m<ipython-input-19-e1411e4ae55c>\u001b[0m in \u001b[0;36m<module>\u001b[0;34m\u001b[0m\n\u001b[1;32m      1\u001b[0m \u001b[0;32mif\u001b[0m \u001b[0m__name__\u001b[0m \u001b[0;34m==\u001b[0m \u001b[0;34m\"__main__\"\u001b[0m\u001b[0;34m:\u001b[0m\u001b[0;34m\u001b[0m\u001b[0;34m\u001b[0m\u001b[0m\n\u001b[0;32m----> 2\u001b[0;31m     \u001b[0mgenerate_picture\u001b[0m\u001b[0;34m(\u001b[0m\u001b[0mfile_name\u001b[0m\u001b[0;34m=\u001b[0m\u001b[0;34m\"../img.png\"\u001b[0m\u001b[0;34m,\u001b[0m \u001b[0mmultiplier\u001b[0m\u001b[0;34m=\u001b[0m\u001b[0;36m10\u001b[0m\u001b[0;34m)\u001b[0m\u001b[0;34m\u001b[0m\u001b[0;34m\u001b[0m\u001b[0m\n\u001b[0m",
      "\u001b[0;32m<ipython-input-18-ec1d6711993a>\u001b[0m in \u001b[0;36mgenerate_picture\u001b[0;34m(file_name, flag_calculate_fig_size, multiplier)\u001b[0m\n\u001b[1;32m     14\u001b[0m                        figsize will be 20, 10)\n\u001b[1;32m     15\u001b[0m     \"\"\"\n\u001b[0;32m---> 16\u001b[0;31m     \u001b[0mcurves\u001b[0m \u001b[0;34m=\u001b[0m \u001b[0mGenerateBeizerCurve\u001b[0m\u001b[0;34m.\u001b[0m\u001b[0mget_curve\u001b[0m\u001b[0;34m(\u001b[0m\u001b[0mfile_name\u001b[0m\u001b[0;34m)\u001b[0m\u001b[0;34m\u001b[0m\u001b[0;34m\u001b[0m\u001b[0m\n\u001b[0m\u001b[1;32m     17\u001b[0m     \u001b[0mcalculate_fig_size\u001b[0m\u001b[0;34m(\u001b[0m\u001b[0mfile_name\u001b[0m\u001b[0;34m,\u001b[0m \u001b[0mmultiplier\u001b[0m\u001b[0;34m)\u001b[0m\u001b[0;34m\u001b[0m\u001b[0;34m\u001b[0m\u001b[0m\n\u001b[1;32m     18\u001b[0m     \u001b[0mset_fig_size\u001b[0m\u001b[0;34m(\u001b[0m\u001b[0;34m)\u001b[0m\u001b[0;34m\u001b[0m\u001b[0;34m\u001b[0m\u001b[0m\n",
      "\u001b[0;31mAttributeError\u001b[0m: module 'GenerateBeizerCurve' has no attribute 'get_curve'"
     ]
    }
   ],
   "source": [
    "if __name__ == \"__main__\":\n",
    "    generate_picture(file_name=\"../img.png\", multiplier=10)"
   ]
  },
  {
   "cell_type": "code",
   "execution_count": null,
   "metadata": {},
   "outputs": [],
   "source": []
  },
  {
   "cell_type": "code",
   "execution_count": null,
   "metadata": {},
   "outputs": [],
   "source": []
  }
 ],
 "metadata": {
  "kernelspec": {
   "display_name": "Python 3",
   "language": "python",
   "name": "python3"
  },
  "language_info": {
   "codemirror_mode": {
    "name": "ipython",
    "version": 3
   },
   "file_extension": ".py",
   "mimetype": "text/x-python",
   "name": "python",
   "nbconvert_exporter": "python",
   "pygments_lexer": "ipython3",
   "version": "3.7.6"
  }
 },
 "nbformat": 4,
 "nbformat_minor": 5
}
